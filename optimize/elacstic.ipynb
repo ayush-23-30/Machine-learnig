{
 "cells": [
  {
   "cell_type": "code",
   "execution_count": 1,
   "id": "ef0fce03",
   "metadata": {},
   "outputs": [],
   "source": [
    "\n",
    "from sklearn.datasets import load_diabetes\n",
    "from sklearn.linear_model import LinearRegression,Ridge,Lasso,ElasticNet\n",
    "from sklearn.model_selection import train_test_split\n",
    "from sklearn.metrics import r2_score"
   ]
  },
  {
   "cell_type": "code",
   "execution_count": 2,
   "id": "e43a1e4d",
   "metadata": {},
   "outputs": [],
   "source": [
    "x,y = load_diabetes(return_X_y=True);\n"
   ]
  },
  {
   "cell_type": "code",
   "execution_count": 3,
   "id": "d8569ce5",
   "metadata": {},
   "outputs": [],
   "source": [
    "x_train,x_test,y_train,y_test = train_test_split(x,y,test_size=0.2,random_state=2)"
   ]
  },
  {
   "cell_type": "code",
   "execution_count": 8,
   "id": "af91142c",
   "metadata": {},
   "outputs": [
    {
     "data": {
      "text/plain": [
       "0.4399338661568968"
      ]
     },
     "execution_count": 8,
     "metadata": {},
     "output_type": "execute_result"
    }
   ],
   "source": [
    "# Linear Regression\n",
    "lr = LinearRegression()\n",
    "lr.fit(x_train,y_train) # 80% data p train kiya question answer dono hai \n",
    "y_pred = lr.predict(x_test) # ab 20% question de diye ke tum predict karro \n",
    "r2_score(y_test,y_pred) # y_test 20% answer de diye hai, aur jo predicited answer hai vo bhi compare hoge "
   ]
  },
  {
   "cell_type": "code",
   "execution_count": 9,
   "id": "bfaa62e4",
   "metadata": {},
   "outputs": [
    {
     "data": {
      "text/plain": [
       "0.45199494197195456"
      ]
     },
     "execution_count": 9,
     "metadata": {},
     "output_type": "execute_result"
    }
   ],
   "source": [
    "## Ridge \n",
    "reg = Ridge(alpha=0.1)\n",
    "reg.fit(x_train,y_train)\n",
    "y_reg_pred = reg.predict(x_test)\n",
    "r2_score(y_test,y_reg_pred)"
   ]
  },
  {
   "cell_type": "code",
   "execution_count": 11,
   "id": "1025e309",
   "metadata": {},
   "outputs": [
    {
     "data": {
      "text/plain": [
       "0.44111855963110613"
      ]
     },
     "execution_count": 11,
     "metadata": {},
     "output_type": "execute_result"
    }
   ],
   "source": [
    "## Lasso \n",
    "las = Lasso(alpha=0.01);\n",
    "las.fit(x_train,y_train)\n",
    "y_lass_pred = las.predict(x_test)\n",
    "r2_score(y_test,y_lass_pred)\n"
   ]
  },
  {
   "cell_type": "code",
   "execution_count": null,
   "id": "fe0c5d1c",
   "metadata": {},
   "outputs": [
    {
     "data": {
      "text/plain": [
       "0.42735912446687974"
      ]
     },
     "execution_count": 12,
     "metadata": {},
     "output_type": "execute_result"
    }
   ],
   "source": [
    "## elastic \n",
    "\n",
    "net = ElasticNet(alpha=0.005,l1_ratio=0.6)\n",
    "## class created \n",
    "## ab fitt karro model ko ki train ho , train hoga kis pe x_train or y_train\n",
    "net.fit(x_train,y_train)\n",
    "## model train ho gya ab kya karna hai, ab hume predict karna hai x_test ko kyuki y_test m result hai \n",
    "net_pred = net.predict(x_test)\n",
    "#  ab compare karro tumne kya predict kiya hai aur model ka kya hai \n",
    "r2_score(y_test,net_pred)"
   ]
  },
  {
   "cell_type": "code",
   "execution_count": null,
   "id": "1fe18093",
   "metadata": {},
   "outputs": [],
   "source": []
  }
 ],
 "metadata": {
  "kernelspec": {
   "display_name": ".venv",
   "language": "python",
   "name": "python3"
  },
  "language_info": {
   "codemirror_mode": {
    "name": "ipython",
    "version": 3
   },
   "file_extension": ".py",
   "mimetype": "text/x-python",
   "name": "python",
   "nbconvert_exporter": "python",
   "pygments_lexer": "ipython3",
   "version": "3.13.2"
  }
 },
 "nbformat": 4,
 "nbformat_minor": 5
}
