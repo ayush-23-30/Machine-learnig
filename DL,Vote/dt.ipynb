{
 "cells": [
  {
   "cell_type": "code",
   "execution_count": null,
   "id": "d96b6d55",
   "metadata": {},
   "outputs": [],
   "source": [
    "import pandas as pd\n",
    "from sklearn.model_selection import train_test_split\n",
    "from sklearn.tree import DecisionTreeRegressor\n",
    "from sklearn.metrics import r2_score\n",
    "from sklearn.preprocessing import OneHotEncoder\n",
    "from sklearn.compose import ColumnTransformer\n",
    "from sklearn.pipeline import Pipeline"
   ]
  },
  {
   "cell_type": "code",
   "execution_count": 14,
   "id": "d0992774",
   "metadata": {},
   "outputs": [
    {
     "data": {
      "text/html": [
       "<div>\n",
       "<style scoped>\n",
       "    .dataframe tbody tr th:only-of-type {\n",
       "        vertical-align: middle;\n",
       "    }\n",
       "\n",
       "    .dataframe tbody tr th {\n",
       "        vertical-align: top;\n",
       "    }\n",
       "\n",
       "    .dataframe thead th {\n",
       "        text-align: right;\n",
       "    }\n",
       "</style>\n",
       "<table border=\"1\" class=\"dataframe\">\n",
       "  <thead>\n",
       "    <tr style=\"text-align: right;\">\n",
       "      <th></th>\n",
       "      <th>name</th>\n",
       "      <th>company</th>\n",
       "      <th>year</th>\n",
       "      <th>Price</th>\n",
       "      <th>kms_driven</th>\n",
       "      <th>fuel_type</th>\n",
       "    </tr>\n",
       "  </thead>\n",
       "  <tbody>\n",
       "    <tr>\n",
       "      <th>0</th>\n",
       "      <td>Hyundai Santro Xing</td>\n",
       "      <td>Hyundai</td>\n",
       "      <td>2007</td>\n",
       "      <td>80000</td>\n",
       "      <td>45000</td>\n",
       "      <td>Petrol</td>\n",
       "    </tr>\n",
       "    <tr>\n",
       "      <th>1</th>\n",
       "      <td>Mahindra Jeep CL550</td>\n",
       "      <td>Mahindra</td>\n",
       "      <td>2006</td>\n",
       "      <td>425000</td>\n",
       "      <td>40</td>\n",
       "      <td>Diesel</td>\n",
       "    </tr>\n",
       "  </tbody>\n",
       "</table>\n",
       "</div>"
      ],
      "text/plain": [
       "                  name   company  year   Price  kms_driven fuel_type\n",
       "0  Hyundai Santro Xing   Hyundai  2007   80000       45000    Petrol\n",
       "1  Mahindra Jeep CL550  Mahindra  2006  425000          40    Diesel"
      ]
     },
     "execution_count": 14,
     "metadata": {},
     "output_type": "execute_result"
    }
   ],
   "source": [
    "data = pd.read_csv('Clean Car.csv')\n",
    "data = data.drop(columns=['Unnamed: 0'])\n",
    "data.head(2)"
   ]
  },
  {
   "cell_type": "code",
   "execution_count": 15,
   "id": "b4ee0bc3",
   "metadata": {},
   "outputs": [],
   "source": [
    "numeric_features = ['year', 'kms_driven'] ## Adjust as needed \n",
    "categorical_features = ['name', 'company', 'fuel_type']\n",
    "target = 'Price'"
   ]
  },
  {
   "cell_type": "code",
   "execution_count": 17,
   "id": "e60a070c",
   "metadata": {},
   "outputs": [],
   "source": [
    "x = data[numeric_features + categorical_features]\n",
    "y = data[target]"
   ]
  },
  {
   "cell_type": "code",
   "execution_count": 19,
   "id": "00d0c33a",
   "metadata": {},
   "outputs": [],
   "source": [
    "## Split into training and Testing \n",
    "x_train, x_test, y_train , y_test = train_test_split(x,y,test_size=0.2,random_state=42)"
   ]
  },
  {
   "cell_type": "code",
   "execution_count": 21,
   "id": "38402d7b",
   "metadata": {},
   "outputs": [],
   "source": [
    "# 📌 Preprocessing for numeric and categorical features\n",
    "\n",
    "preprocessing = ColumnTransformer([\n",
    "  ('num', 'passthrough',numeric_features), ## For Decision Trees , scaling is not need \n",
    "  ('cat', OneHotEncoder(handle_unknown='ignore'),categorical_features)\n",
    "])"
   ]
  },
  {
   "cell_type": "code",
   "execution_count": 22,
   "id": "00019956",
   "metadata": {},
   "outputs": [],
   "source": [
    "## Create Decision Tree Regressor \n",
    "\n",
    "regressor = DecisionTreeRegressor(\n",
    "  max_depth=5, \n",
    "  min_samples_split= 10, \n",
    "  random_state = 42 \n",
    ")\n"
   ]
  },
  {
   "cell_type": "code",
   "execution_count": 23,
   "id": "43f83800",
   "metadata": {},
   "outputs": [],
   "source": [
    "## create Pipeline \n",
    "pipeline = Pipeline([\n",
    "  ('preprocessing', preprocessing), \n",
    "  ('regressor', regressor)\n",
    "])"
   ]
  },
  {
   "cell_type": "code",
   "execution_count": 24,
   "id": "307e2c5a",
   "metadata": {},
   "outputs": [],
   "source": [
    "## Fit and predict \n",
    "pipeline.fit(x_train,y_train)\n",
    "y_pred = pipeline.predict(x_test)"
   ]
  },
  {
   "cell_type": "code",
   "execution_count": 26,
   "id": "24401a82",
   "metadata": {},
   "outputs": [
    {
     "data": {
      "text/plain": [
       "0.2757327249125423"
      ]
     },
     "execution_count": 26,
     "metadata": {},
     "output_type": "execute_result"
    }
   ],
   "source": [
    "r2 = r2_score(y_test, y_pred)\n",
    "r2"
   ]
  },
  {
   "cell_type": "code",
   "execution_count": null,
   "id": "1987b071",
   "metadata": {},
   "outputs": [],
   "source": []
  }
 ],
 "metadata": {
  "kernelspec": {
   "display_name": ".venv",
   "language": "python",
   "name": "python3"
  },
  "language_info": {
   "codemirror_mode": {
    "name": "ipython",
    "version": 3
   },
   "file_extension": ".py",
   "mimetype": "text/x-python",
   "name": "python",
   "nbconvert_exporter": "python",
   "pygments_lexer": "ipython3",
   "version": "3.13.2"
  }
 },
 "nbformat": 4,
 "nbformat_minor": 5
}
