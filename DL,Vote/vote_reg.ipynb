{
 "cells": [
  {
   "cell_type": "code",
   "execution_count": 55,
   "id": "2c0fdfda",
   "metadata": {},
   "outputs": [],
   "source": [
    "from sklearn.datasets import load_diabetes\n",
    "import pandas as pd \n",
    "import numpy as np \n"
   ]
  },
  {
   "cell_type": "code",
   "execution_count": null,
   "id": "ab0aae95",
   "metadata": {},
   "outputs": [],
   "source": [
    "x,y = load_diabetes(return_X_y=True)"
   ]
  },
  {
   "cell_type": "code",
   "execution_count": 67,
   "id": "cddaa5c5",
   "metadata": {},
   "outputs": [
    {
     "name": "stdout",
     "output_type": "stream",
     "text": [
      "(442, 10)\n",
      "(442,)\n"
     ]
    }
   ],
   "source": [
    "print(x.shape) \n",
    "print(y.shape) "
   ]
  },
  {
   "cell_type": "code",
   "execution_count": 59,
   "id": "1ccb7aa8",
   "metadata": {},
   "outputs": [],
   "source": [
    "from sklearn.linear_model import LinearRegression\n",
    "from sklearn.tree import DecisionTreeRegressor\n",
    "from sklearn.svm import SVR\n",
    "from sklearn.model_selection import cross_val_score\n"
   ]
  },
  {
   "cell_type": "code",
   "execution_count": 60,
   "id": "b00eb648",
   "metadata": {},
   "outputs": [],
   "source": [
    "lr = LinearRegression()\n",
    "dt = DecisionTreeRegressor()\n",
    "svr = SVR()"
   ]
  },
  {
   "cell_type": "code",
   "execution_count": 61,
   "id": "4551c260",
   "metadata": {},
   "outputs": [],
   "source": [
    "estimators = [('lr',lr),('dt',dt), ('svr',svr)]"
   ]
  },
  {
   "cell_type": "code",
   "execution_count": 68,
   "id": "c0689e49",
   "metadata": {},
   "outputs": [
    {
     "name": "stdout",
     "output_type": "stream",
     "text": [
      "lr 0.46\n",
      "dt -0.21\n",
      "svr 0.15\n"
     ]
    }
   ],
   "source": [
    "for estimator in estimators: \n",
    "  scores = cross_val_score(estimator[1],x,y,scoring='r2',cv=10)\n",
    "  print(estimator[0],np.round(np.mean(scores),2))"
   ]
  },
  {
   "cell_type": "code",
   "execution_count": 69,
   "id": "5a8a8fb9",
   "metadata": {},
   "outputs": [],
   "source": [
    "from sklearn.ensemble import VotingRegressor\n"
   ]
  },
  {
   "cell_type": "code",
   "execution_count": 70,
   "id": "0be7a36f",
   "metadata": {},
   "outputs": [
    {
     "name": "stdout",
     "output_type": "stream",
     "text": [
      "Voting Regressor 0.35\n"
     ]
    }
   ],
   "source": [
    "vr = VotingRegressor(estimators)\n",
    "scores = cross_val_score(vr,x,y,scoring='r2',cv=10 )\n",
    "print('Voting Regressor', np.round(np.mean(scores),2))"
   ]
  },
  {
   "cell_type": "code",
   "execution_count": null,
   "id": "6f45035c",
   "metadata": {},
   "outputs": [
    {
     "name": "stdout",
     "output_type": "stream",
     "text": [
      "For i=1,j=1,k=1 0.34\n",
      "For i=1,j=1,k=2 0.34\n",
      "For i=1,j=1,k=3 0.32\n",
      "For i=1,j=2,k=1 0.27\n",
      "For i=1,j=2,k=2 0.29\n",
      "For i=1,j=2,k=3 0.31\n",
      "For i=1,j=3,k=1 0.19\n",
      "For i=1,j=3,k=2 0.22\n",
      "For i=1,j=3,k=3 0.26\n",
      "For i=2,j=1,k=1 0.4\n",
      "For i=2,j=1,k=2 0.38\n",
      "For i=2,j=1,k=3 0.37\n",
      "For i=2,j=2,k=1 0.34\n",
      "For i=2,j=2,k=2 0.34\n",
      "For i=2,j=2,k=3 0.34\n",
      "For i=2,j=3,k=1 0.26\n",
      "For i=2,j=3,k=2 0.3\n",
      "For i=2,j=3,k=3 0.3\n",
      "For i=3,j=1,k=1 0.42\n",
      "For i=3,j=1,k=2 0.41\n",
      "For i=3,j=1,k=3 0.39\n",
      "For i=3,j=2,k=1 0.36\n",
      "For i=3,j=2,k=2 0.38\n",
      "For i=3,j=2,k=3 0.37\n",
      "For i=3,j=3,k=1 0.31\n",
      "For i=3,j=3,k=2 0.33\n",
      "For i=3,j=3,k=3 0.34\n"
     ]
    }
   ],
   "source": [
    "for i in range(1,4):\n",
    "  for j in range(1,4):\n",
    "    for k in range(1,4):\n",
    "      vr = VotingRegressor(estimators,weights=[i,j,k])\n",
    "      scores = cross_val_score(vr,x,y,scoring='r2',cv=10)\n",
    "      print(\"For i={},j={},k={}\".format(i,j,k),np.round(np.mean(scores),2))\n",
    "\n"
   ]
  },
  {
   "cell_type": "code",
   "execution_count": 73,
   "id": "27158f7d",
   "metadata": {},
   "outputs": [],
   "source": [
    "## Using the same algorithm \n",
    "\n",
    "dt1 = DecisionTreeRegressor(max_depth=1)\n",
    "dt2 = DecisionTreeRegressor(max_depth=3)\n",
    "dt3 = DecisionTreeRegressor(max_depth=5)\n",
    "dt4 = DecisionTreeRegressor(max_depth=7)\n",
    "dt5 = DecisionTreeRegressor(max_depth=None)\n",
    "\n",
    "estimators = [('dt1',dt1),('dt2',dt2),('dt3',dt3), ('dt4',dt4), ('dt5',dt5)]"
   ]
  },
  {
   "cell_type": "code",
   "execution_count": 74,
   "id": "fa529127",
   "metadata": {},
   "outputs": [
    {
     "name": "stdout",
     "output_type": "stream",
     "text": [
      "dt1 0.15\n",
      "dt2 0.28\n",
      "dt3 0.17\n",
      "dt4 -0.04\n",
      "dt5 -0.22\n"
     ]
    }
   ],
   "source": [
    "for estimator in estimators:\n",
    "  scores  = cross_val_score(estimator[1],x,y,scoring='r2',cv=10)\n",
    "  print(estimator[0],np.round(np.mean(scores),2))"
   ]
  },
  {
   "cell_type": "code",
   "execution_count": null,
   "id": "62d472af",
   "metadata": {},
   "outputs": [],
   "source": []
  }
 ],
 "metadata": {
  "language_info": {
   "name": "python"
  }
 },
 "nbformat": 4,
 "nbformat_minor": 5
}
